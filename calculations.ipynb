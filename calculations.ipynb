{
 "cells": [
  {
   "cell_type": "code",
   "execution_count": 1,
   "metadata": {},
   "outputs": [],
   "source": [
    "import matplotlib\n",
    "import numpy as np\n",
    "import pandas as pd\n",
    "import matplotlib.pyplot as plt\n",
    "from scipy.constants import epsilon_0\n",
    "from scipy.optimize import curve_fit\n",
    "\n",
    "matplotlib.rcParams.update(matplotlib.rcParamsDefault)\n",
    "plt.rcParams.update({\n",
    "    \"text.usetex\": True,\n",
    "    \"font.family\": \"serif\",\n",
    "    \"font.weight\": 'bold',\n",
    "    \"font.size\"  : 22,\n",
    "})"
   ]
  },
  {
   "cell_type": "code",
   "execution_count": 2,
   "metadata": {},
   "outputs": [],
   "source": [
    "R1 = 47e3\n",
    "R2 = 470e3\n",
    "C1 = 1e-6\n",
    "C2 = 0.01e-6\n",
    "C = (C1 * C2) / (C1 + C2)\n",
    "Sc = 500e-6\n",
    "d = 0.5e-3"
   ]
  },
  {
   "cell_type": "markdown",
   "metadata": {},
   "source": [
    "Характеристики предельной петли"
   ]
  },
  {
   "cell_type": "code",
   "execution_count": 3,
   "metadata": {},
   "outputs": [],
   "source": [
    "Es = 2.5\n",
    "Ds = 2.5\n",
    "Dr = 0.4\n",
    "Ec = 0.7\n",
    "S_loop = 4.3"
   ]
  },
  {
   "cell_type": "code",
   "execution_count": 4,
   "metadata": {},
   "outputs": [],
   "source": [
    "u = np.array([17, 15, 13, 11, 9, 7, 5, 4.4, 3.8, 3.2, 2.6, 2, 1.4, 0.8, 0.4, 0.2])\n",
    "kx = np.array([5, 5, 5, 5, 2, 2, 1, 1, 1, 1, 0.5, 0.5, 0.5, 0.2, 0.1, 0.05])\n",
    "ky = np.array([5, 5, 5, 2, 2, 1, 0.5, 0.5, 0.2, 0.2, 0.1, 0.1, 0.05, 0.02, 0.02, 0.02])\n",
    "x = np.array([25, 23, 19, 16, 33, 26, 37, 32, 28, 24, 37, 30, 21, 29, 29, 28])\n",
    "y = np.array([25, 22, 18, 33, 22, 23, 22, 27, 33, 25, 35, 23, 24, 30, 14, 7])\n",
    "\n",
    "data = pd.DataFrame(\n",
    "    data=np.array([u, kx, ky, x, y]).T,\n",
    ")\n",
    "\n",
    "data.columns = ['u', 'kx', 'ky', 'x', 'y']"
   ]
  },
  {
   "cell_type": "markdown",
   "metadata": {},
   "source": [
    "# 1\n",
    "$$D=\\dfrac{C_{1}}{S}\\cdot U_{C_{1}},$$ где $S$ - площадь обкладок сегнетоэлектрического конденсатора. (Заряды $q$ на конденсаторах $C_{1}$ и $C_{2}$ равны, так как они соединены последовательно)."
   ]
  },
  {
   "cell_type": "code",
   "execution_count": 5,
   "metadata": {},
   "outputs": [
    {
     "name": "stdout",
     "output_type": "stream",
     "text": [
      "12.5\n",
      "12.5\n",
      "2.0\n",
      "3.5\n"
     ]
    }
   ],
   "source": [
    "print(Es * 5)\n",
    "print(Ds * 5)\n",
    "print(Dr * 5)\n",
    "print(Ec * 5)\n"
   ]
  },
  {
   "cell_type": "markdown",
   "metadata": {},
   "source": [
    "# 2"
   ]
  },
  {
   "cell_type": "code",
   "execution_count": 6,
   "metadata": {},
   "outputs": [
    {
     "data": {
      "text/plain": [
       "0.21899720169444797"
      ]
     },
     "execution_count": 6,
     "metadata": {},
     "output_type": "execute_result"
    }
   ],
   "source": [
    "tg = 1 / np.pi * S_loop / 2.5 / 2.5\n",
    "tg"
   ]
  },
  {
   "cell_type": "markdown",
   "metadata": {},
   "source": [
    "# 3"
   ]
  },
  {
   "cell_type": "code",
   "execution_count": 7,
   "metadata": {},
   "outputs": [],
   "source": [
    "data['D'] = C2 * u / Sc * kx\n",
    "data['E'] = u / d * ky"
   ]
  },
  {
   "cell_type": "code",
   "execution_count": 8,
   "metadata": {},
   "outputs": [
    {
     "data": {
      "text/html": [
       "<div>\n",
       "<style scoped>\n",
       "    .dataframe tbody tr th:only-of-type {\n",
       "        vertical-align: middle;\n",
       "    }\n",
       "\n",
       "    .dataframe tbody tr th {\n",
       "        vertical-align: top;\n",
       "    }\n",
       "\n",
       "    .dataframe thead th {\n",
       "        text-align: right;\n",
       "    }\n",
       "</style>\n",
       "<table border=\"1\" class=\"dataframe\">\n",
       "  <thead>\n",
       "    <tr style=\"text-align: right;\">\n",
       "      <th></th>\n",
       "      <th>u</th>\n",
       "      <th>kx</th>\n",
       "      <th>ky</th>\n",
       "      <th>x</th>\n",
       "      <th>y</th>\n",
       "      <th>D</th>\n",
       "      <th>E</th>\n",
       "    </tr>\n",
       "  </thead>\n",
       "  <tbody>\n",
       "    <tr>\n",
       "      <th>0</th>\n",
       "      <td>17.0</td>\n",
       "      <td>5.00</td>\n",
       "      <td>5.00</td>\n",
       "      <td>25.0</td>\n",
       "      <td>25.0</td>\n",
       "      <td>1.700000e-03</td>\n",
       "      <td>170000.0</td>\n",
       "    </tr>\n",
       "    <tr>\n",
       "      <th>1</th>\n",
       "      <td>15.0</td>\n",
       "      <td>5.00</td>\n",
       "      <td>5.00</td>\n",
       "      <td>23.0</td>\n",
       "      <td>22.0</td>\n",
       "      <td>1.500000e-03</td>\n",
       "      <td>150000.0</td>\n",
       "    </tr>\n",
       "    <tr>\n",
       "      <th>2</th>\n",
       "      <td>13.0</td>\n",
       "      <td>5.00</td>\n",
       "      <td>5.00</td>\n",
       "      <td>19.0</td>\n",
       "      <td>18.0</td>\n",
       "      <td>1.300000e-03</td>\n",
       "      <td>130000.0</td>\n",
       "    </tr>\n",
       "    <tr>\n",
       "      <th>3</th>\n",
       "      <td>11.0</td>\n",
       "      <td>5.00</td>\n",
       "      <td>2.00</td>\n",
       "      <td>16.0</td>\n",
       "      <td>33.0</td>\n",
       "      <td>1.100000e-03</td>\n",
       "      <td>44000.0</td>\n",
       "    </tr>\n",
       "    <tr>\n",
       "      <th>4</th>\n",
       "      <td>9.0</td>\n",
       "      <td>2.00</td>\n",
       "      <td>2.00</td>\n",
       "      <td>33.0</td>\n",
       "      <td>22.0</td>\n",
       "      <td>3.600000e-04</td>\n",
       "      <td>36000.0</td>\n",
       "    </tr>\n",
       "    <tr>\n",
       "      <th>5</th>\n",
       "      <td>7.0</td>\n",
       "      <td>2.00</td>\n",
       "      <td>1.00</td>\n",
       "      <td>26.0</td>\n",
       "      <td>23.0</td>\n",
       "      <td>2.800000e-04</td>\n",
       "      <td>14000.0</td>\n",
       "    </tr>\n",
       "    <tr>\n",
       "      <th>6</th>\n",
       "      <td>5.0</td>\n",
       "      <td>1.00</td>\n",
       "      <td>0.50</td>\n",
       "      <td>37.0</td>\n",
       "      <td>22.0</td>\n",
       "      <td>1.000000e-04</td>\n",
       "      <td>5000.0</td>\n",
       "    </tr>\n",
       "    <tr>\n",
       "      <th>7</th>\n",
       "      <td>4.4</td>\n",
       "      <td>1.00</td>\n",
       "      <td>0.50</td>\n",
       "      <td>32.0</td>\n",
       "      <td>27.0</td>\n",
       "      <td>8.800000e-05</td>\n",
       "      <td>4400.0</td>\n",
       "    </tr>\n",
       "    <tr>\n",
       "      <th>8</th>\n",
       "      <td>3.8</td>\n",
       "      <td>1.00</td>\n",
       "      <td>0.20</td>\n",
       "      <td>28.0</td>\n",
       "      <td>33.0</td>\n",
       "      <td>7.600000e-05</td>\n",
       "      <td>1520.0</td>\n",
       "    </tr>\n",
       "    <tr>\n",
       "      <th>9</th>\n",
       "      <td>3.2</td>\n",
       "      <td>1.00</td>\n",
       "      <td>0.20</td>\n",
       "      <td>24.0</td>\n",
       "      <td>25.0</td>\n",
       "      <td>6.400000e-05</td>\n",
       "      <td>1280.0</td>\n",
       "    </tr>\n",
       "    <tr>\n",
       "      <th>10</th>\n",
       "      <td>2.6</td>\n",
       "      <td>0.50</td>\n",
       "      <td>0.10</td>\n",
       "      <td>37.0</td>\n",
       "      <td>35.0</td>\n",
       "      <td>2.600000e-05</td>\n",
       "      <td>520.0</td>\n",
       "    </tr>\n",
       "    <tr>\n",
       "      <th>11</th>\n",
       "      <td>2.0</td>\n",
       "      <td>0.50</td>\n",
       "      <td>0.10</td>\n",
       "      <td>30.0</td>\n",
       "      <td>23.0</td>\n",
       "      <td>2.000000e-05</td>\n",
       "      <td>400.0</td>\n",
       "    </tr>\n",
       "    <tr>\n",
       "      <th>12</th>\n",
       "      <td>1.4</td>\n",
       "      <td>0.50</td>\n",
       "      <td>0.05</td>\n",
       "      <td>21.0</td>\n",
       "      <td>24.0</td>\n",
       "      <td>1.400000e-05</td>\n",
       "      <td>140.0</td>\n",
       "    </tr>\n",
       "    <tr>\n",
       "      <th>13</th>\n",
       "      <td>0.8</td>\n",
       "      <td>0.20</td>\n",
       "      <td>0.02</td>\n",
       "      <td>29.0</td>\n",
       "      <td>30.0</td>\n",
       "      <td>3.200000e-06</td>\n",
       "      <td>32.0</td>\n",
       "    </tr>\n",
       "    <tr>\n",
       "      <th>14</th>\n",
       "      <td>0.4</td>\n",
       "      <td>0.10</td>\n",
       "      <td>0.02</td>\n",
       "      <td>29.0</td>\n",
       "      <td>14.0</td>\n",
       "      <td>8.000000e-07</td>\n",
       "      <td>16.0</td>\n",
       "    </tr>\n",
       "    <tr>\n",
       "      <th>15</th>\n",
       "      <td>0.2</td>\n",
       "      <td>0.05</td>\n",
       "      <td>0.02</td>\n",
       "      <td>28.0</td>\n",
       "      <td>7.0</td>\n",
       "      <td>2.000000e-07</td>\n",
       "      <td>8.0</td>\n",
       "    </tr>\n",
       "  </tbody>\n",
       "</table>\n",
       "</div>"
      ],
      "text/plain": [
       "       u    kx    ky     x     y             D         E\n",
       "0   17.0  5.00  5.00  25.0  25.0  1.700000e-03  170000.0\n",
       "1   15.0  5.00  5.00  23.0  22.0  1.500000e-03  150000.0\n",
       "2   13.0  5.00  5.00  19.0  18.0  1.300000e-03  130000.0\n",
       "3   11.0  5.00  2.00  16.0  33.0  1.100000e-03   44000.0\n",
       "4    9.0  2.00  2.00  33.0  22.0  3.600000e-04   36000.0\n",
       "5    7.0  2.00  1.00  26.0  23.0  2.800000e-04   14000.0\n",
       "6    5.0  1.00  0.50  37.0  22.0  1.000000e-04    5000.0\n",
       "7    4.4  1.00  0.50  32.0  27.0  8.800000e-05    4400.0\n",
       "8    3.8  1.00  0.20  28.0  33.0  7.600000e-05    1520.0\n",
       "9    3.2  1.00  0.20  24.0  25.0  6.400000e-05    1280.0\n",
       "10   2.6  0.50  0.10  37.0  35.0  2.600000e-05     520.0\n",
       "11   2.0  0.50  0.10  30.0  23.0  2.000000e-05     400.0\n",
       "12   1.4  0.50  0.05  21.0  24.0  1.400000e-05     140.0\n",
       "13   0.8  0.20  0.02  29.0  30.0  3.200000e-06      32.0\n",
       "14   0.4  0.10  0.02  29.0  14.0  8.000000e-07      16.0\n",
       "15   0.2  0.05  0.02  28.0   7.0  2.000000e-07       8.0"
      ]
     },
     "execution_count": 8,
     "metadata": {},
     "output_type": "execute_result"
    }
   ],
   "source": [
    "data"
   ]
  },
  {
   "cell_type": "markdown",
   "metadata": {},
   "source": [
    "# TODO: plot using approximation"
   ]
  },
  {
   "cell_type": "code",
   "execution_count": 9,
   "metadata": {},
   "outputs": [],
   "source": [
    "def func(E, a, b, c):\n",
    "    return a * np.arctan(E * b) + c\n",
    "popt, pcov = curve_fit(func, data.E, data.D)"
   ]
  },
  {
   "cell_type": "code",
   "execution_count": 10,
   "metadata": {},
   "outputs": [
    {
     "data": {
      "image/png": "[encoded data removed]",
      "text/plain": [
       "<Figure size 1600x900 with 1 Axes>"
      ]
     },
     "metadata": {},
     "output_type": "display_data"
    }
   ],
   "source": [
    "plt.figure(figsize=(16, 9))\n",
    "plt.title(r'$D(E)$')\n",
    "plt.plot(\n",
    "    data.E, func(data.E, *popt),\n",
    "    linewidth=4,\n",
    "    c='green',\n",
    "    alpha=0.5,\n",
    "    label=r'$D_{approx}(E)$',\n",
    ")\n",
    "plt.scatter(data.E, data.D,\n",
    "        c='blue',\n",
    "        label=r'$D(E)$')\n",
    "plt.grid()\n",
    "plt.legend()\n",
    "plt.savefig('plots/D(E).png')\n",
    "plt.show()"
   ]
  },
  {
   "cell_type": "markdown",
   "metadata": {},
   "source": [
    "# 4\n",
    "$$\\varepsilon = \\dfrac{D}{\\varepsilon_{0}E}$$"
   ]
  },
  {
   "cell_type": "code",
   "execution_count": 11,
   "metadata": {},
   "outputs": [],
   "source": [
    "def eps(D, E):\n",
    "    return D / epsilon_0 / E"
   ]
  },
  {
   "cell_type": "code",
   "execution_count": 12,
   "metadata": {},
   "outputs": [],
   "source": [
    "data['eps'] = eps(data.D, data.E)"
   ]
  },
  {
   "cell_type": "markdown",
   "metadata": {},
   "source": [
    "# TODO: plot using approximation"
   ]
  },
  {
   "cell_type": "code",
   "execution_count": 13,
   "metadata": {},
   "outputs": [
    {
     "name": "stderr",
     "output_type": "stream",
     "text": [
      "/Library/Frameworks/Python.framework/Versions/3.10/lib/python3.10/site-packages/pandas/core/arraylike.py:397: RuntimeWarning: overflow encountered in exp\n",
      "  result = getattr(ufunc, method)(*inputs, **kwargs)\n"
     ]
    },
    {
     "data": {
      "text/plain": [
       "array([5.84355228e+03, 3.70046138e-04, 1.67035664e+03])"
      ]
     },
     "execution_count": 13,
     "metadata": {},
     "output_type": "execute_result"
    }
   ],
   "source": [
    "def dfun(E, a, b, c):\n",
    "    return (a * np.exp(-b * E) + c)\n",
    "data.eps[2] = (data.eps[1] + data.eps[3])/2\n",
    "popt, pcov = curve_fit(dfun, data.E, data.eps)\n",
    "popt"
   ]
  },
  {
   "cell_type": "code",
   "execution_count": 14,
   "metadata": {},
   "outputs": [
    {
     "data": {
      "text/plain": [
       "7513.908918602121"
      ]
     },
     "execution_count": 14,
     "metadata": {},
     "output_type": "execute_result"
    }
   ],
   "source": [
    "dfun(0, *popt)"
   ]
  },
  {
   "cell_type": "code",
   "execution_count": 15,
   "metadata": {},
   "outputs": [
    {
     "data": {
      "image/png": "[encoded data removed]",
      "text/plain": [
       "<Figure size 1600x900 with 1 Axes>"
      ]
     },
     "metadata": {},
     "output_type": "display_data"
    }
   ],
   "source": [
    "plt.figure(figsize=(16,9))\n",
    "plt.title(r'$\\varepsilon(E)$')\n",
    "plt.scatter(\n",
    "    data.E, data.eps,\n",
    "    c='r',\n",
    "    s=50,\n",
    "    label=r'$\\varepsilon(E)$',\n",
    ")\n",
    "x = np.linspace(-1000, max(data.E) * 1.1, 1000)\n",
    "plt.plot(\n",
    "    x, dfun(x, *popt),\n",
    "    linewidth=4,\n",
    "    c='green',\n",
    "    label=r'$\\varepsilon_{approx}(E)$',\n",
    ")\n",
    "plt.grid()\n",
    "plt.legend()\n",
    "plt.savefig('eps(E).png')\n",
    "plt.show()"
   ]
  },
  {
   "cell_type": "markdown",
   "metadata": {},
   "source": [
    "# 6"
   ]
  },
  {
   "cell_type": "code",
   "execution_count": 16,
   "metadata": {},
   "outputs": [
    {
     "name": "stdout",
     "output_type": "stream",
     "text": [
      "11294.090673730192\n",
      "139.99999999999997\n"
     ]
    }
   ],
   "source": [
    "eps_max = max(data.eps)\n",
    "e_max = 0\n",
    "for i in range(len(data.eps)):\n",
    "    if data.eps[i] == eps_max:\n",
    "        e_max = data.E[i]\n",
    "        break\n",
    "print(eps_max)\n",
    "print(e_max)"
   ]
  },
  {
   "cell_type": "code",
   "execution_count": 19,
   "metadata": {},
   "outputs": [
    {
     "data": {
      "text/plain": [
       "7513.908918602121"
      ]
     },
     "execution_count": 19,
     "metadata": {},
     "output_type": "execute_result"
    }
   ],
   "source": [
    "dfun(0, *popt)"
   ]
  }
 ],
 "metadata": {
  "kernelspec": {
   "display_name": "Python 3 (ipykernel)",
   "language": "python",
   "name": "python3"
  },
  "language_info": {
   "codemirror_mode": {
    "name": "ipython",
    "version": 3
   },
   "file_extension": ".py",
   "mimetype": "text/x-python",
   "name": "python",
   "nbconvert_exporter": "python",
   "pygments_lexer": "ipython3",
   "version": "3.10.4"
  },
  "vscode": {
   "interpreter": {
    "hash": "1a1af0ee75eeea9e2e1ee996c87e7a2b11a0bebd85af04bb136d915cefc0abce"
   }
  }
 },
 "nbformat": 4,
 "nbformat_minor": 2
}
